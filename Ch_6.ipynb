{
 "cells": [
  {
   "cell_type": "markdown",
   "metadata": {},
   "source": [
    "# CH-6 Working with Files"
   ]
  },
  {
   "cell_type": "markdown",
   "metadata": {},
   "source": [
    "### File Access Mode "
   ]
  },
  {
   "cell_type": "code",
   "execution_count": 33,
   "metadata": {},
   "outputs": [],
   "source": [
    "mode |   Full Name  |  handle   | File not found \n",
    "\n",
    "\n",
    " r   |  Read only   |  starting |  I/O error        | [Default mode]\n",
    "r+   |  Read & Write| starting  | I/O error         |[overwrites on exixting file]\n",
    " w   |   Write      | starting  | creates a new file|[it first empty out complete existing file and then writes again]\n",
    " w+  | write&Read   | starting  | creates a new file|[first file will be emptied and then any operations will be performed]\n",
    " a   | append only  |    end    | creates a new file|[will not read as append only mode/ adds at end of the back]\n",
    " a+  | append&Read  |    end    | creates a new File|[even if u seek at 0 it will write in last only]"
   ]
  },
  {
   "cell_type": "code",
   "execution_count": 19,
   "metadata": {},
   "outputs": [
    {
     "name": "stdout",
     "output_type": "stream",
     "text": [
      "0\n",
      "HIIII\n",
      "HIIII\n",
      "12\n",
      "\n",
      "HIIII\n",
      "HIIII\n"
     ]
    }
   ],
   "source": [
    "f=open('File1.txt')\n",
    "print(f.tell())\n",
    "\n",
    "print(f.read())\n",
    "# f.write(\"Jk\") --  not writable\n",
    "print(f.tell())\n",
    "print(f.read())# Empty\n",
    "f.seek(0)# Ek var file read thai gai pachi pachi read karavsu to\n",
    "        # kai nai ave etle pointer ne pacho 0 set karvo padse\n",
    "print(f.read())\n",
    "f.close() \n",
    "\n"
   ]
  },
  {
   "cell_type": "code",
   "execution_count": 26,
   "metadata": {},
   "outputs": [
    {
     "name": "stdout",
     "output_type": "stream",
     "text": [
      "0\n",
      "II\n",
      "HIIII\n",
      "HiiII\n",
      "HIIII\n",
      "\n",
      "HiiII\n",
      "HIIIIByy\n"
     ]
    }
   ],
   "source": [
    "f=open('File1.txt','r+')\n",
    "print(f.tell())\n",
    "f.write(\"Hii\")\n",
    "print(f.read())\n",
    "f.seek(0)\n",
    "print(f.read()) # Ovver write thase ahiya \n",
    "f.write(\"Byy\")# already end par che pointer as pehla read karai etle last ma lakhase \n",
    "print(f.read())\n",
    "f.seek(0) # 0 vagar read karavso so kai nai ave as pointer last ma che \n",
    "print(f.read())\n",
    "f.close() \n",
    "\n"
   ]
  },
  {
   "cell_type": "code",
   "execution_count": 27,
   "metadata": {},
   "outputs": [],
   "source": [
    "f=open(\"File2.txt\",'w')\n",
    "f.write(\"Writer mode creates a new File\")\n",
    "f.close()"
   ]
  },
  {
   "cell_type": "code",
   "execution_count": 29,
   "metadata": {},
   "outputs": [],
   "source": [
    "f=open(\"File3.txt\",'w')\n",
    "f.write(\"I have first emptied out file and writing again\")\n",
    "f.close()"
   ]
  },
  {
   "cell_type": "code",
   "execution_count": 32,
   "metadata": {},
   "outputs": [
    {
     "name": "stdout",
     "output_type": "stream",
     "text": [
      "\n",
      "I have first emptied out and then writing\n"
     ]
    }
   ],
   "source": [
    "f=open('File4.txt','w+')\n",
    "print(f.read())\n",
    "f.write('I have first emptied out and then writing')\n",
    "f.seek(0)\n",
    "print(f.read())\n",
    "f.close()"
   ]
  },
  {
   "cell_type": "code",
   "execution_count": 40,
   "metadata": {},
   "outputs": [],
   "source": [
    "f=open('File4.txt','a')\n",
    "f.write(\"I have appended \") # returns the last index or length\n",
    "f.close()\n"
   ]
  },
  {
   "cell_type": "code",
   "execution_count": 44,
   "metadata": {},
   "outputs": [
    {
     "name": "stdout",
     "output_type": "stream",
     "text": [
      "I have first emptied out and then writingI have appended I have appended I have appended I have appended I have appended I have appended I have appended I have appended \n"
     ]
    }
   ],
   "source": [
    "f=open('File4.txt','a+')\n",
    "f.seek(0)\n",
    "print(f.read())\n",
    "f.write(\"I have appended \") # returns the last index or length\n",
    "f.close()\n"
   ]
  },
  {
   "cell_type": "markdown",
   "metadata": {},
   "source": [
    "## File Functions\n"
   ]
  },
  {
   "cell_type": "code",
   "execution_count": null,
   "metadata": {},
   "outputs": [],
   "source": [
    "1.open(file,mode)\n",
    "2.read(n)[no of files]\n",
    "3.readline(n)[read one by one lines and will read upto /n only]\n",
    "4.readlines()[returns list]\n",
    "5.seek(pos)[pos--position]\n",
    "6.tell()[current position]\n",
    "7.write()\n",
    "8.writelines(L)[passing a list and will write]\n",
    "9.close()"
   ]
  },
  {
   "cell_type": "raw",
   "metadata": {},
   "source": [
    "f=open('File1.txt','r+')\n",
    "f.readline() # ['HiiII\\n']\n",
    "print(f.readline())# 2nd time 2nd line and print ma che etle /n nahi avee --HIIIIByy\n",
    "f.seek(0)\n",
    "f.readlines()# ['HiiII\\n', 'HIIIIByy']\n",
    "f.writelines(['a','b',' c'])\n",
    "\n",
    "print(f.read())\n",
    "f.close()"
   ]
  },
  {
   "cell_type": "code",
   "execution_count": 60,
   "metadata": {},
   "outputs": [
    {
     "name": "stdout",
     "output_type": "stream",
     "text": [
      "HiiII\n",
      "HIIIIByyab cab cab c\n"
     ]
    }
   ],
   "source": [
    "## Q : WAP to copy content of 1 file to another file \n",
    "f=open('File1.txt','r')\n",
    "f1=open('File5.txt','w+')\n",
    "f1.write(f.read())\n",
    "f1.seek(0)\n",
    "print(f1.read())\n",
    "f1.close()\n",
    "f.close()"
   ]
  },
  {
   "cell_type": "code",
   "execution_count": 68,
   "metadata": {},
   "outputs": [
    {
     "name": "stdout",
     "output_type": "stream",
     "text": [
      "18\n",
      "2\n",
      "5\n"
     ]
    }
   ],
   "source": [
    "## Q: WAP to count no of characters words and lines in a given file\n",
    "f=open('File1.txt','r+')\n",
    "charcount=linecount=wordcount=0\n",
    "for line in f.readlines():\n",
    "    linecount+=1\n",
    "    for words in line.split():\n",
    "        wordcount+=1\n",
    "f.seek(0)\n",
    "charcount=len(f.read())\n",
    "    \n",
    "print(charcount)\n",
    "print(linecount)\n",
    "print(wordcount)\n",
    "f.close()\n"
   ]
  },
  {
   "cell_type": "code",
   "execution_count": 87,
   "metadata": {},
   "outputs": [
    {
     "name": "stdout",
     "output_type": "stream",
     "text": [
      "{'Hii': 1, 'i': 1, 'am': 1, 'jeel': 1, 'pala': 1}\n"
     ]
    }
   ],
   "source": [
    "# Q: WAP to count how many times each word appears in a given file\n",
    "f=open('File1.txt','r+')\n",
    "d={}\n",
    "for line in f.readlines():\n",
    "    for word in line.split():\n",
    "        if word not in d:\n",
    "            d[word]=1\n",
    "        else:\n",
    "            d[word]+=1\n",
    "print(d)\n",
    "f.close()\n"
   ]
  },
  {
   "cell_type": "code",
   "execution_count": 89,
   "metadata": {},
   "outputs": [
    {
     "name": "stdout",
     "output_type": "stream",
     "text": [
      "Even  : ace\n",
      "Odd  : bdf\n"
     ]
    }
   ],
   "source": [
    "# Q: WAP to copy every odd positioned char to odd.txt file and every even position char to even.txt file \n",
    "#from the given file\n",
    "f=open('GivenChar.txt','r+')\n",
    "f1=open('odd.txt','w+')\n",
    "f2=open('even.txt','w+')\n",
    "f.write('abcdef')\n",
    "d=[]\n",
    "f.seek(0)\n",
    "for i in f.read():\n",
    "    d.append(i)\n",
    "for i in range(len(d)):\n",
    "    if i%2==0:\n",
    "        f2.write(d[i])\n",
    "    else:\n",
    "        f1.write(d[i])\n",
    "f1.seek(0)\n",
    "f2.seek(0)\n",
    "print(\"Even :\" ,f2.read())\n",
    "print(\"Odd  :\" ,f1.read())"
   ]
  },
  {
   "cell_type": "code",
   "execution_count": null,
   "metadata": {},
   "outputs": [],
   "source": [
    "# WAP a pager program that prompts for a file  name and displays 25 lines at a time from the file asking the user \n",
    "# every time to stop or continue.\n",
    "fname=input(\"Enter File name :\")\n",
    "a=open(fname,'r')\n",
    "count=0\n",
    "for i in a.readlines():\n",
    "        \n",
    "        count+=1\n",
    "        print(i)\n",
    "        if count==25:\n",
    "            count=0\n",
    "            ask=input(\"press 'con' to continue or 'stop' to stop : \")\n",
    "            if ask=='stop':\n",
    "                break;"
   ]
  },
  {
   "cell_type": "code",
   "execution_count": 32,
   "metadata": {},
   "outputs": [
    {
     "name": "stdout",
     "output_type": "stream",
     "text": [
      "Enter a string : nas\n"
     ]
    }
   ],
   "source": [
    "# # Using a file which consist of multiple statements find all the words from the which can me made from all the characters\n",
    "# # of given users string \n",
    "# String entered by user: nas\n",
    "# Output words will be: oranges, bananas, vitamins\n",
    "\n",
    "\n",
    "f=open(\"Qb514.txt\",'r+')\n",
    "l=f.read()\n",
    "flag=False\n",
    "s=[]\n",
    "for i in range(len(l)):\n",
    "    s=(l.split())\n",
    "inp=input(\"Enter a string : \")\n",
    "for i in range(len(s)):\n",
    "    for c in inp:\n",
    "        if c not in s[i]:\n",
    "            flag=True\n",
    "            break\n",
    "        else:\n",
    "            if inp.count(c)>s[i].count(c):\n",
    "                flag=True\n",
    "                break\n",
    "    if flag==False:\n",
    "        print(s[i])\n"
   ]
  },
  {
   "cell_type": "code",
   "execution_count": 23,
   "metadata": {},
   "outputs": [
    {
     "name": "stdout",
     "output_type": "stream",
     "text": [
      "Enter a string : eee\n",
      "greenapple\n"
     ]
    }
   ],
   "source": [
    "f=open(\"Qb514.txt\",'r+')\n",
    "inp=input(\"Enter a string : \")\n",
    "flag=False\n",
    "for line in f.readlines():\n",
    "    for words in line.split():\n",
    "        flag=False\n",
    "        for c in inp:\n",
    "            if c not in words:\n",
    "                flag=True\n",
    "                break\n",
    "            else:\n",
    "                if inp.count(c)>words.count(c):\n",
    "                    flag=True\n",
    "                    break\n",
    "        if flag==False:\n",
    "                print(words)\n",
    "    "
   ]
  },
  {
   "cell_type": "code",
   "execution_count": 41,
   "metadata": {},
   "outputs": [
    {
     "name": "stdout",
     "output_type": "stream",
     "text": [
      "AIDNI SI MY COUNTRY \n"
     ]
    }
   ],
   "source": [
    "# Write a python program to read a text file “Story.txt” and print only word starting with ‘I’ in reverse order.\n",
    "# Example: If value in text file is : ‘INDIA IS MY COUNTRY’\n",
    "# Output will be: ‘AIDNI SI MY COUNTRY’\n",
    "f=open(\"Story517.txt\",'r+')\n",
    "new=\"\"\n",
    "for line in f.readlines():\n",
    "    for word in line.split():\n",
    "        if word[0]=='I':\n",
    "            new+=word[::-1]\n",
    "        else:\n",
    "            new+=word\n",
    "        new+=\" \"\n",
    "print(new)\n"
   ]
  },
  {
   "cell_type": "code",
   "execution_count": 2,
   "metadata": {},
   "outputs": [
    {
     "name": "stdout",
     "output_type": "stream",
     "text": [
      "Enter Something (for quit enter END):Hii\n",
      "Enter Something (for quit enter END):helo\n",
      "Enter Something (for quit enter END):END\n",
      "Hii\n",
      "\n",
      "Jeel\n",
      "\n"
     ]
    }
   ],
   "source": [
    "# 520:Write a python program to accept string/sentence from user till the user enters “END”. Each string/sentence entered by \n",
    "# user should be a newline in file. Save all the lines in file and display only those lines which begin with capital letter.\n",
    "# Example:\n",
    "# Enter Something (for quit enter END):Hi Friends\n",
    "# Enter Something (for quit enter END):how are you all\n",
    "# Enter Something (for quit enter END):I am fine\n",
    "# Enter Something (for quit enter END):hope you all are fine\n",
    "# Enter Something (for quit enter END):END\n",
    "# The Line started with Capital Letters:\n",
    "# Hi Friends\n",
    "# I am fine\n",
    "\n",
    "f=open(\"Qb520.txt\",'w+')\n",
    "inp=\"\"\n",
    "while inp!='END':\n",
    "    inp=input(\"Enter Something (for quit enter END):\")\n",
    "    if inp=='END':\n",
    "        continue\n",
    "    f.write(inp)\n",
    "    f.write(\"\\n\")\n",
    "for line in f.readlines():\n",
    "    for word in line:\n",
    "        if word[0].isupper():\n",
    "            print(line)\n",
    "        "
   ]
  },
  {
   "cell_type": "code",
   "execution_count": 9,
   "metadata": {},
   "outputs": [],
   "source": [
    "#519 : File Filtering. write all lines of a file1, except those that start with a pound sign ( # ), the comment character for Python to \n",
    "# file2. And display data of file2.\n",
    "# Text file1 content:\n",
    "# Friends are crazy, Friends are naughty ! \n",
    "# #Friends are honest, Friends are best ! \n",
    "# Friends are like keygen, #friends are like license key ! \n",
    "# We are nothing without friends, Life is not possible without friends !\n",
    "# Text file2 shoud be:\n",
    "# Friends are crazy, Friends are naughty ! \n",
    "# Friends are like keygen, \n",
    "# We are nothing without friends, Life is not possible without friends !\n",
    "\n",
    "f1=open(\"Qb519_1.txt\",'r+')\n",
    "f2=open(\"Qb519_2.txt\",'w+')\n",
    "for lines in f1.readlines():\n",
    "    for words in lines:\n",
    "        if words[0]=='#':\n",
    "            break\n",
    "        else:\n",
    "            f2.write(words)\n",
    "\n"
   ]
  },
  {
   "cell_type": "code",
   "execution_count": 15,
   "metadata": {},
   "outputs": [
    {
     "name": "stdout",
     "output_type": "stream",
     "text": [
      "line no  2 col 9\n"
     ]
    }
   ],
   "source": [
    "# # 521 Write a program to compare two text files. If they are different, give the line and column numbers in the files where the \n",
    "# first difference occurs.\n",
    "# Example:\n",
    "# File 1: python1.txt\n",
    "# Friends are crazy, Friends are naughty !\n",
    "# Friends are honest, Friends are best !\n",
    "# Friends are like keygen, friends are like license key !\n",
    "# new We are nothing without friends, Life is not possible without friends !\n",
    "# File 2: python2.txt \n",
    "# Friends are crazy, Friends are naughty !\n",
    "# Friends 6re honest, Friends are best !\n",
    "# Friends are like keygen, friends are like license key !\n",
    "# new We are nothing without friends, Life is not possible without friends ! \n",
    "# Output:\n",
    "# line number 2 colNo. 9\n",
    "\n",
    "\n",
    "f1=open(\"Qb521_1.txt\",'r+')\n",
    "f2=open(\"Qb521_2.txt\",'r+')\n",
    "\n",
    "fr_1=f1.readlines()\n",
    "fr_2=f2.readlines()\n",
    "for i in range(len(fr_1)):\n",
    "    flag=False\n",
    "    for j in range(len(fr_1[i])):\n",
    "        if fr_1[i][j]!=fr_2[i][j]:\n",
    "            print('line no ',i+1,'col',j+1)\n",
    "            flag=True\n",
    "            break\n",
    "    if flag:\n",
    "        break\n"
   ]
  },
  {
   "cell_type": "code",
   "execution_count": 26,
   "metadata": {},
   "outputs": [
    {
     "name": "stdout",
     "output_type": "stream",
     "text": [
      "Vowels count :  10\n",
      "\u0000\u0000\n"
     ]
    }
   ],
   "source": [
    "# WAP to reverse the content of 1 file and store it in second file and also convert the content of 2nd file into \n",
    "# upper case and stor it in 3rd file  and \n",
    "# also count vowels in 3rd file and also print 2nd line from the content of 3rd file\n",
    "f1=open(\"Eg1.txt\",'r+')\n",
    "f2=open('Eg2.txt','w+')\n",
    "f3=open('Eg3.txt','w+')\n",
    "for lines in f1.readlines():\n",
    "    f2.write(lines[::-1])\n",
    "    f2.flush()\n",
    "for lines in f2.readlines():\n",
    "    f3.write(lines.upper())\n",
    "    f3.flush()\n",
    "count=0\n",
    "for lines in f3.readlines():\n",
    "    for w in lines:\n",
    "        if w=='A' or w=='E' or w=='I' or w=='O' or w=='U':\n",
    "            count+=1\n",
    "print(\"Vowels count : \",count)\n",
    "f3.seek(0)\n",
    "print(f3.readline(2))\n",
    "f2.close()\n",
    "f3.close()\n",
    "\n",
    "        \n"
   ]
  },
  {
   "cell_type": "code",
   "execution_count": null,
   "metadata": {},
   "outputs": [],
   "source": []
  },
  {
   "cell_type": "code",
   "execution_count": null,
   "metadata": {},
   "outputs": [],
   "source": []
  }
 ],
 "metadata": {
  "kernelspec": {
   "display_name": "Python 3",
   "language": "python",
   "name": "python3"
  },
  "language_info": {
   "codemirror_mode": {
    "name": "ipython",
    "version": 3
   },
   "file_extension": ".py",
   "mimetype": "text/x-python",
   "name": "python",
   "nbconvert_exporter": "python",
   "pygments_lexer": "ipython3",
   "version": "3.8.5"
  }
 },
 "nbformat": 4,
 "nbformat_minor": 4
}
